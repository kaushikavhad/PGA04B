{
 "cells": [
  {
   "cell_type": "code",
   "execution_count": 2,
   "metadata": {},
   "outputs": [],
   "source": [
    "# Importing required packages\n",
    "import pandas as pd\n",
    "import matplotlib.pyplot as plt\n",
    "import seaborn as sns\n"
   ]
  },
  {
   "cell_type": "code",
   "execution_count": 3,
   "metadata": {},
   "outputs": [],
   "source": [
    "# Imorting data from System\n",
    "data=pd.read_excel('C:\\\\Users\\\\Kaushik Avhad\\\\Downloads\\\\Assignment file for Data Analyst.xlsx')"
   ]
  },
  {
   "cell_type": "markdown",
   "metadata": {},
   "source": [
    "# Exploratory Data Analysis"
   ]
  },
  {
   "cell_type": "code",
   "execution_count": 4,
   "metadata": {},
   "outputs": [
    {
     "data": {
      "text/html": [
       "<div>\n",
       "<style scoped>\n",
       "    .dataframe tbody tr th:only-of-type {\n",
       "        vertical-align: middle;\n",
       "    }\n",
       "\n",
       "    .dataframe tbody tr th {\n",
       "        vertical-align: top;\n",
       "    }\n",
       "\n",
       "    .dataframe thead th {\n",
       "        text-align: right;\n",
       "    }\n",
       "</style>\n",
       "<table border=\"1\" class=\"dataframe\">\n",
       "  <thead>\n",
       "    <tr style=\"text-align: right;\">\n",
       "      <th></th>\n",
       "      <th>Timestamp</th>\n",
       "      <th>Current</th>\n",
       "      <th>Total voltage</th>\n",
       "      <th>SOC</th>\n",
       "      <th>Temperature</th>\n",
       "      <th>SOH</th>\n",
       "      <th>Equivalent cycle</th>\n",
       "      <th>Application status</th>\n",
       "      <th>Grid status</th>\n",
       "      <th>Grid power</th>\n",
       "      <th>Grid energy consumption</th>\n",
       "      <th>Grid cumulative energy consumption</th>\n",
       "    </tr>\n",
       "  </thead>\n",
       "  <tbody>\n",
       "    <tr>\n",
       "      <th>0</th>\n",
       "      <td>1556701215000</td>\n",
       "      <td>0</td>\n",
       "      <td>66.72</td>\n",
       "      <td>1.0</td>\n",
       "      <td>25.229167</td>\n",
       "      <td>1.000000</td>\n",
       "      <td>0.0</td>\n",
       "      <td>1</td>\n",
       "      <td>1</td>\n",
       "      <td>0.0</td>\n",
       "      <td>0.0</td>\n",
       "      <td>0.0</td>\n",
       "    </tr>\n",
       "    <tr>\n",
       "      <th>1</th>\n",
       "      <td>1556702215000</td>\n",
       "      <td>0</td>\n",
       "      <td>66.72</td>\n",
       "      <td>1.0</td>\n",
       "      <td>25.528210</td>\n",
       "      <td>0.999774</td>\n",
       "      <td>0.0</td>\n",
       "      <td>1</td>\n",
       "      <td>1</td>\n",
       "      <td>0.0</td>\n",
       "      <td>0.0</td>\n",
       "      <td>0.0</td>\n",
       "    </tr>\n",
       "    <tr>\n",
       "      <th>2</th>\n",
       "      <td>1556703215000</td>\n",
       "      <td>0</td>\n",
       "      <td>66.72</td>\n",
       "      <td>1.0</td>\n",
       "      <td>25.859735</td>\n",
       "      <td>0.999679</td>\n",
       "      <td>0.0</td>\n",
       "      <td>1</td>\n",
       "      <td>1</td>\n",
       "      <td>0.0</td>\n",
       "      <td>0.0</td>\n",
       "      <td>0.0</td>\n",
       "    </tr>\n",
       "    <tr>\n",
       "      <th>3</th>\n",
       "      <td>1556704215000</td>\n",
       "      <td>0</td>\n",
       "      <td>66.72</td>\n",
       "      <td>1.0</td>\n",
       "      <td>26.204830</td>\n",
       "      <td>0.999606</td>\n",
       "      <td>0.0</td>\n",
       "      <td>1</td>\n",
       "      <td>1</td>\n",
       "      <td>0.0</td>\n",
       "      <td>0.0</td>\n",
       "      <td>0.0</td>\n",
       "    </tr>\n",
       "    <tr>\n",
       "      <th>4</th>\n",
       "      <td>1556705215000</td>\n",
       "      <td>0</td>\n",
       "      <td>66.72</td>\n",
       "      <td>1.0</td>\n",
       "      <td>26.553448</td>\n",
       "      <td>0.999542</td>\n",
       "      <td>0.0</td>\n",
       "      <td>1</td>\n",
       "      <td>1</td>\n",
       "      <td>0.0</td>\n",
       "      <td>0.0</td>\n",
       "      <td>0.0</td>\n",
       "    </tr>\n",
       "  </tbody>\n",
       "</table>\n",
       "</div>"
      ],
      "text/plain": [
       "       Timestamp  Current  Total voltage  SOC  Temperature       SOH  \\\n",
       "0  1556701215000        0          66.72  1.0    25.229167  1.000000   \n",
       "1  1556702215000        0          66.72  1.0    25.528210  0.999774   \n",
       "2  1556703215000        0          66.72  1.0    25.859735  0.999679   \n",
       "3  1556704215000        0          66.72  1.0    26.204830  0.999606   \n",
       "4  1556705215000        0          66.72  1.0    26.553448  0.999542   \n",
       "\n",
       "   Equivalent cycle  Application status  Grid status  Grid power  \\\n",
       "0               0.0                   1            1         0.0   \n",
       "1               0.0                   1            1         0.0   \n",
       "2               0.0                   1            1         0.0   \n",
       "3               0.0                   1            1         0.0   \n",
       "4               0.0                   1            1         0.0   \n",
       "\n",
       "   Grid energy consumption  Grid cumulative energy consumption  \n",
       "0                      0.0                                 0.0  \n",
       "1                      0.0                                 0.0  \n",
       "2                      0.0                                 0.0  \n",
       "3                      0.0                                 0.0  \n",
       "4                      0.0                                 0.0  "
      ]
     },
     "execution_count": 4,
     "metadata": {},
     "output_type": "execute_result"
    }
   ],
   "source": [
    "data.head()"
   ]
  },
  {
   "cell_type": "code",
   "execution_count": 12,
   "metadata": {},
   "outputs": [
    {
     "data": {
      "text/plain": [
       "(31104, 12)"
      ]
     },
     "execution_count": 12,
     "metadata": {},
     "output_type": "execute_result"
    }
   ],
   "source": [
    "data.shape"
   ]
  },
  {
   "cell_type": "code",
   "execution_count": 5,
   "metadata": {},
   "outputs": [
    {
     "name": "stdout",
     "output_type": "stream",
     "text": [
      "<class 'pandas.core.frame.DataFrame'>\n",
      "RangeIndex: 31104 entries, 0 to 31103\n",
      "Data columns (total 12 columns):\n",
      "Timestamp                             31104 non-null int64\n",
      "Current                               31104 non-null int64\n",
      "Total voltage                         31104 non-null float64\n",
      "SOC                                   31104 non-null float64\n",
      "Temperature                           31104 non-null float64\n",
      "SOH                                   31104 non-null float64\n",
      "Equivalent cycle                      31104 non-null float64\n",
      "Application status                    31104 non-null int64\n",
      "Grid status                           31104 non-null int64\n",
      "Grid power                            31104 non-null float64\n",
      "Grid energy consumption               31104 non-null float64\n",
      "Grid cumulative energy consumption    31104 non-null float64\n",
      "dtypes: float64(8), int64(4)\n",
      "memory usage: 2.8 MB\n"
     ]
    }
   ],
   "source": [
    "data.info()"
   ]
  },
  {
   "cell_type": "code",
   "execution_count": 6,
   "metadata": {},
   "outputs": [
    {
     "data": {
      "text/html": [
       "<div>\n",
       "<style scoped>\n",
       "    .dataframe tbody tr th:only-of-type {\n",
       "        vertical-align: middle;\n",
       "    }\n",
       "\n",
       "    .dataframe tbody tr th {\n",
       "        vertical-align: top;\n",
       "    }\n",
       "\n",
       "    .dataframe thead th {\n",
       "        text-align: right;\n",
       "    }\n",
       "</style>\n",
       "<table border=\"1\" class=\"dataframe\">\n",
       "  <thead>\n",
       "    <tr style=\"text-align: right;\">\n",
       "      <th></th>\n",
       "      <th>Timestamp</th>\n",
       "      <th>Current</th>\n",
       "      <th>Total voltage</th>\n",
       "      <th>SOC</th>\n",
       "      <th>Temperature</th>\n",
       "      <th>SOH</th>\n",
       "      <th>Equivalent cycle</th>\n",
       "      <th>Application status</th>\n",
       "      <th>Grid status</th>\n",
       "      <th>Grid power</th>\n",
       "      <th>Grid energy consumption</th>\n",
       "      <th>Grid cumulative energy consumption</th>\n",
       "    </tr>\n",
       "  </thead>\n",
       "  <tbody>\n",
       "    <tr>\n",
       "      <th>count</th>\n",
       "      <td>3.110400e+04</td>\n",
       "      <td>31104.000000</td>\n",
       "      <td>31104.000000</td>\n",
       "      <td>31104.000000</td>\n",
       "      <td>31104.000000</td>\n",
       "      <td>31104.000000</td>\n",
       "      <td>31104.000000</td>\n",
       "      <td>31104.000000</td>\n",
       "      <td>31104.000000</td>\n",
       "      <td>31104.000000</td>\n",
       "      <td>31104.000000</td>\n",
       "      <td>3.110400e+04</td>\n",
       "    </tr>\n",
       "    <tr>\n",
       "      <th>mean</th>\n",
       "      <td>1.572253e+12</td>\n",
       "      <td>-0.003858</td>\n",
       "      <td>64.272196</td>\n",
       "      <td>0.828945</td>\n",
       "      <td>27.915732</td>\n",
       "      <td>0.948226</td>\n",
       "      <td>52.563840</td>\n",
       "      <td>0.999968</td>\n",
       "      <td>0.988137</td>\n",
       "      <td>221.494578</td>\n",
       "      <td>61.526272</td>\n",
       "      <td>9.442240e+05</td>\n",
       "    </tr>\n",
       "    <tr>\n",
       "      <th>std</th>\n",
       "      <td>8.979096e+09</td>\n",
       "      <td>33.170852</td>\n",
       "      <td>1.918436</td>\n",
       "      <td>0.134033</td>\n",
       "      <td>13.308070</td>\n",
       "      <td>0.019635</td>\n",
       "      <td>31.301743</td>\n",
       "      <td>0.005670</td>\n",
       "      <td>0.108273</td>\n",
       "      <td>299.129090</td>\n",
       "      <td>83.091414</td>\n",
       "      <td>5.556151e+05</td>\n",
       "    </tr>\n",
       "    <tr>\n",
       "      <th>min</th>\n",
       "      <td>1.556701e+12</td>\n",
       "      <td>-300.000000</td>\n",
       "      <td>48.160346</td>\n",
       "      <td>-0.155714</td>\n",
       "      <td>20.263275</td>\n",
       "      <td>0.919398</td>\n",
       "      <td>0.000000</td>\n",
       "      <td>0.000000</td>\n",
       "      <td>0.000000</td>\n",
       "      <td>0.000000</td>\n",
       "      <td>0.000000</td>\n",
       "      <td>0.000000e+00</td>\n",
       "    </tr>\n",
       "    <tr>\n",
       "      <th>25%</th>\n",
       "      <td>1.564477e+12</td>\n",
       "      <td>0.000000</td>\n",
       "      <td>63.700213</td>\n",
       "      <td>0.781742</td>\n",
       "      <td>22.272948</td>\n",
       "      <td>0.932068</td>\n",
       "      <td>24.438458</td>\n",
       "      <td>1.000000</td>\n",
       "      <td>1.000000</td>\n",
       "      <td>0.000000</td>\n",
       "      <td>0.000000</td>\n",
       "      <td>4.466059e+05</td>\n",
       "    </tr>\n",
       "    <tr>\n",
       "      <th>50%</th>\n",
       "      <td>1.572253e+12</td>\n",
       "      <td>0.000000</td>\n",
       "      <td>65.299735</td>\n",
       "      <td>0.901914</td>\n",
       "      <td>26.060848</td>\n",
       "      <td>0.945187</td>\n",
       "      <td>52.499507</td>\n",
       "      <td>1.000000</td>\n",
       "      <td>1.000000</td>\n",
       "      <td>0.000000</td>\n",
       "      <td>0.000000</td>\n",
       "      <td>9.466569e+05</td>\n",
       "    </tr>\n",
       "    <tr>\n",
       "      <th>75%</th>\n",
       "      <td>1.580028e+12</td>\n",
       "      <td>10.000000</td>\n",
       "      <td>65.344541</td>\n",
       "      <td>0.905029</td>\n",
       "      <td>29.523420</td>\n",
       "      <td>0.963154</td>\n",
       "      <td>77.241660</td>\n",
       "      <td>1.000000</td>\n",
       "      <td>1.000000</td>\n",
       "      <td>617.410545</td>\n",
       "      <td>171.502929</td>\n",
       "      <td>1.386711e+06</td>\n",
       "    </tr>\n",
       "    <tr>\n",
       "      <th>max</th>\n",
       "      <td>1.587804e+12</td>\n",
       "      <td>10.000000</td>\n",
       "      <td>66.720000</td>\n",
       "      <td>1.000000</td>\n",
       "      <td>136.118156</td>\n",
       "      <td>1.000000</td>\n",
       "      <td>107.847718</td>\n",
       "      <td>1.000000</td>\n",
       "      <td>1.000000</td>\n",
       "      <td>654.014349</td>\n",
       "      <td>181.670653</td>\n",
       "      <td>1.913713e+06</td>\n",
       "    </tr>\n",
       "  </tbody>\n",
       "</table>\n",
       "</div>"
      ],
      "text/plain": [
       "          Timestamp       Current  Total voltage           SOC   Temperature  \\\n",
       "count  3.110400e+04  31104.000000   31104.000000  31104.000000  31104.000000   \n",
       "mean   1.572253e+12     -0.003858      64.272196      0.828945     27.915732   \n",
       "std    8.979096e+09     33.170852       1.918436      0.134033     13.308070   \n",
       "min    1.556701e+12   -300.000000      48.160346     -0.155714     20.263275   \n",
       "25%    1.564477e+12      0.000000      63.700213      0.781742     22.272948   \n",
       "50%    1.572253e+12      0.000000      65.299735      0.901914     26.060848   \n",
       "75%    1.580028e+12     10.000000      65.344541      0.905029     29.523420   \n",
       "max    1.587804e+12     10.000000      66.720000      1.000000    136.118156   \n",
       "\n",
       "                SOH  Equivalent cycle  Application status   Grid status  \\\n",
       "count  31104.000000      31104.000000        31104.000000  31104.000000   \n",
       "mean       0.948226         52.563840            0.999968      0.988137   \n",
       "std        0.019635         31.301743            0.005670      0.108273   \n",
       "min        0.919398          0.000000            0.000000      0.000000   \n",
       "25%        0.932068         24.438458            1.000000      1.000000   \n",
       "50%        0.945187         52.499507            1.000000      1.000000   \n",
       "75%        0.963154         77.241660            1.000000      1.000000   \n",
       "max        1.000000        107.847718            1.000000      1.000000   \n",
       "\n",
       "         Grid power  Grid energy consumption  \\\n",
       "count  31104.000000             31104.000000   \n",
       "mean     221.494578                61.526272   \n",
       "std      299.129090                83.091414   \n",
       "min        0.000000                 0.000000   \n",
       "25%        0.000000                 0.000000   \n",
       "50%        0.000000                 0.000000   \n",
       "75%      617.410545               171.502929   \n",
       "max      654.014349               181.670653   \n",
       "\n",
       "       Grid cumulative energy consumption  \n",
       "count                        3.110400e+04  \n",
       "mean                         9.442240e+05  \n",
       "std                          5.556151e+05  \n",
       "min                          0.000000e+00  \n",
       "25%                          4.466059e+05  \n",
       "50%                          9.466569e+05  \n",
       "75%                          1.386711e+06  \n",
       "max                          1.913713e+06  "
      ]
     },
     "execution_count": 6,
     "metadata": {},
     "output_type": "execute_result"
    }
   ],
   "source": [
    "data.describe()"
   ]
  },
  {
   "cell_type": "markdown",
   "metadata": {},
   "source": [
    "# Correlations"
   ]
  },
  {
   "cell_type": "markdown",
   "metadata": {},
   "source": [
    "Correlation between feature 'Grid status' and 'SOC'"
   ]
  },
  {
   "cell_type": "code",
   "execution_count": 11,
   "metadata": {},
   "outputs": [
    {
     "data": {
      "text/plain": [
       "0.2279466612854787"
      ]
     },
     "execution_count": 11,
     "metadata": {},
     "output_type": "execute_result"
    }
   ],
   "source": [
    "data['Grid status'].corr(data['SOC'])"
   ]
  },
  {
   "cell_type": "code",
   "execution_count": 8,
   "metadata": {},
   "outputs": [
    {
     "data": {
      "image/png": "[encoded data removed]",
      "text/plain": [
       "<Figure size 432x288 with 1 Axes>"
      ]
     },
     "metadata": {
      "needs_background": "light"
     },
     "output_type": "display_data"
    }
   ],
   "source": [
    "plt.scatter(x=data['Grid status'],y=data['SOC'])\n",
    "plt.xlabel('Grid status')\n",
    "plt.ylabel('SOC')\n",
    "plt.show()"
   ]
  },
  {
   "cell_type": "markdown",
   "metadata": {},
   "source": [
    "Feature ‘Grid status’  is having two unique values i.e 0 and 1 we can consider it as a categorical feature. Correlation between feature 'Grid status' and 'SOC' is found to be 0.227 which is very weak we can say that there will not be much change in 'Grid Status' if 'SOC' changes or vice a versa. In other words we can say 'Grid status' and 'SOC' are independent on each other"
   ]
  },
  {
   "cell_type": "markdown",
   "metadata": {},
   "source": [
    "Correlation between feature 'Equivalent cycle' and 'SOH'"
   ]
  },
  {
   "cell_type": "code",
   "execution_count": 13,
   "metadata": {},
   "outputs": [
    {
     "data": {
      "text/plain": [
       "-0.9842624478536391"
      ]
     },
     "execution_count": 13,
     "metadata": {},
     "output_type": "execute_result"
    }
   ],
   "source": [
    "\n",
    "data['Equivalent cycle'].corr(data['SOH'])"
   ]
  },
  {
   "cell_type": "code",
   "execution_count": 15,
   "metadata": {},
   "outputs": [
    {
     "data": {
      "image/png": "[encoded data removed]",
      "text/plain": [
       "<Figure size 432x288 with 1 Axes>"
      ]
     },
     "metadata": {
      "needs_background": "light"
     },
     "output_type": "display_data"
    }
   ],
   "source": [
    "plt.scatter(x=data['Equivalent cycle'],y=data['SOH'])\n",
    "plt.xlabel('Equivalent cycle')\n",
    "plt.ylabel('SOH')\n",
    "plt.show()"
   ]
  },
  {
   "cell_type": "markdown",
   "metadata": {},
   "source": [
    "Correlation between feature 'Equivalent cycle' and 'SOH' is found to be -0.989 which is very strong in negative direction. We can say that as 'Equivalent cycle' increases 'SOH' will decreases or vice a versa. In other words feature 'Equivalent cycle' and 'SOH' are dependent features."
   ]
  },
  {
   "cell_type": "markdown",
   "metadata": {},
   "source": [
    "\n",
    "Correlation between feature 'SOC' and 'Temperature'"
   ]
  },
  {
   "cell_type": "code",
   "execution_count": 14,
   "metadata": {},
   "outputs": [
    {
     "data": {
      "text/plain": [
       "-0.36904035326610635"
      ]
     },
     "execution_count": 14,
     "metadata": {},
     "output_type": "execute_result"
    }
   ],
   "source": [
    "data['SOC'].corr(data['Temperature'])"
   ]
  },
  {
   "cell_type": "code",
   "execution_count": 18,
   "metadata": {},
   "outputs": [
    {
     "data": {
      "image/png": "[encoded data removed]",
      "text/plain": [
       "<Figure size 432x288 with 1 Axes>"
      ]
     },
     "metadata": {
      "needs_background": "light"
     },
     "output_type": "display_data"
    }
   ],
   "source": [
    "plt.scatter(x=data['SOC'],y=data['Temperature'])\n",
    "plt.xlabel('SOC')\n",
    "plt.ylabel('Temperature')\n",
    "plt.show()"
   ]
  },
  {
   "cell_type": "markdown",
   "metadata": {},
   "source": [
    "Correlation between feature 'SOC' and 'Temperature' is found to be -0.369 which is weak correlated we can say that there will not be much change in 'SOC' if 'Temperature' changes or vice a versa."
   ]
  },
  {
   "cell_type": "markdown",
   "metadata": {},
   "source": [
    "# Correlation matrix and Heatmap"
   ]
  },
  {
   "cell_type": "code",
   "execution_count": 10,
   "metadata": {},
   "outputs": [
    {
     "data": {
      "text/html": [
       "<div>\n",
       "<style scoped>\n",
       "    .dataframe tbody tr th:only-of-type {\n",
       "        vertical-align: middle;\n",
       "    }\n",
       "\n",
       "    .dataframe tbody tr th {\n",
       "        vertical-align: top;\n",
       "    }\n",
       "\n",
       "    .dataframe thead th {\n",
       "        text-align: right;\n",
       "    }\n",
       "</style>\n",
       "<table border=\"1\" class=\"dataframe\">\n",
       "  <thead>\n",
       "    <tr style=\"text-align: right;\">\n",
       "      <th></th>\n",
       "      <th>Timestamp</th>\n",
       "      <th>Current</th>\n",
       "      <th>Total voltage</th>\n",
       "      <th>SOC</th>\n",
       "      <th>Temperature</th>\n",
       "      <th>SOH</th>\n",
       "      <th>Equivalent cycle</th>\n",
       "      <th>Application status</th>\n",
       "      <th>Grid status</th>\n",
       "      <th>Grid power</th>\n",
       "      <th>Grid energy consumption</th>\n",
       "      <th>Grid cumulative energy consumption</th>\n",
       "    </tr>\n",
       "  </thead>\n",
       "  <tbody>\n",
       "    <tr>\n",
       "      <td>Timestamp</td>\n",
       "      <td>1.000000</td>\n",
       "      <td>4.418724e-04</td>\n",
       "      <td>-0.052912</td>\n",
       "      <td>-0.052751</td>\n",
       "      <td>-0.004988</td>\n",
       "      <td>-0.985722</td>\n",
       "      <td>0.999442</td>\n",
       "      <td>-7.123634e-03</td>\n",
       "      <td>-0.002747</td>\n",
       "      <td>0.016974</td>\n",
       "      <td>0.016974</td>\n",
       "      <td>0.999495</td>\n",
       "    </tr>\n",
       "    <tr>\n",
       "      <td>Current</td>\n",
       "      <td>0.000442</td>\n",
       "      <td>1.000000e+00</td>\n",
       "      <td>0.078020</td>\n",
       "      <td>0.120857</td>\n",
       "      <td>-0.818921</td>\n",
       "      <td>-0.000564</td>\n",
       "      <td>0.000640</td>\n",
       "      <td>-6.594991e-07</td>\n",
       "      <td>0.988289</td>\n",
       "      <td>0.223321</td>\n",
       "      <td>0.223321</td>\n",
       "      <td>0.000884</td>\n",
       "    </tr>\n",
       "    <tr>\n",
       "      <td>Total voltage</td>\n",
       "      <td>-0.052912</td>\n",
       "      <td>7.802047e-02</td>\n",
       "      <td>1.000000</td>\n",
       "      <td>0.996240</td>\n",
       "      <td>-0.326546</td>\n",
       "      <td>0.054130</td>\n",
       "      <td>-0.053510</td>\n",
       "      <td>4.762158e-02</td>\n",
       "      <td>0.184622</td>\n",
       "      <td>-0.666429</td>\n",
       "      <td>-0.666429</td>\n",
       "      <td>-0.051234</td>\n",
       "    </tr>\n",
       "    <tr>\n",
       "      <td>SOC</td>\n",
       "      <td>-0.052751</td>\n",
       "      <td>1.208567e-01</td>\n",
       "      <td>0.996240</td>\n",
       "      <td>1.000000</td>\n",
       "      <td>-0.369040</td>\n",
       "      <td>0.054005</td>\n",
       "      <td>-0.053320</td>\n",
       "      <td>3.531014e-02</td>\n",
       "      <td>0.227947</td>\n",
       "      <td>-0.668910</td>\n",
       "      <td>-0.668910</td>\n",
       "      <td>-0.051038</td>\n",
       "    </tr>\n",
       "    <tr>\n",
       "      <td>Temperature</td>\n",
       "      <td>-0.004988</td>\n",
       "      <td>-8.189212e-01</td>\n",
       "      <td>-0.326546</td>\n",
       "      <td>-0.369040</td>\n",
       "      <td>1.000000</td>\n",
       "      <td>0.003684</td>\n",
       "      <td>-0.004896</td>\n",
       "      <td>1.668334e-03</td>\n",
       "      <td>-0.845026</td>\n",
       "      <td>0.054698</td>\n",
       "      <td>0.054698</td>\n",
       "      <td>-0.005666</td>\n",
       "    </tr>\n",
       "    <tr>\n",
       "      <td>SOH</td>\n",
       "      <td>-0.985722</td>\n",
       "      <td>-5.643790e-04</td>\n",
       "      <td>0.054130</td>\n",
       "      <td>0.054005</td>\n",
       "      <td>0.003684</td>\n",
       "      <td>1.000000</td>\n",
       "      <td>-0.984262</td>\n",
       "      <td>6.455398e-03</td>\n",
       "      <td>0.003190</td>\n",
       "      <td>-0.021221</td>\n",
       "      <td>-0.021221</td>\n",
       "      <td>-0.985855</td>\n",
       "    </tr>\n",
       "    <tr>\n",
       "      <td>Equivalent cycle</td>\n",
       "      <td>0.999442</td>\n",
       "      <td>6.402455e-04</td>\n",
       "      <td>-0.053510</td>\n",
       "      <td>-0.053320</td>\n",
       "      <td>-0.004896</td>\n",
       "      <td>-0.984262</td>\n",
       "      <td>1.000000</td>\n",
       "      <td>-7.205035e-03</td>\n",
       "      <td>-0.002752</td>\n",
       "      <td>0.018367</td>\n",
       "      <td>0.018367</td>\n",
       "      <td>0.999942</td>\n",
       "    </tr>\n",
       "    <tr>\n",
       "      <td>Application status</td>\n",
       "      <td>-0.007124</td>\n",
       "      <td>-6.594991e-07</td>\n",
       "      <td>0.047622</td>\n",
       "      <td>0.035310</td>\n",
       "      <td>0.001668</td>\n",
       "      <td>0.006455</td>\n",
       "      <td>-0.007205</td>\n",
       "      <td>1.000000e+00</td>\n",
       "      <td>0.051749</td>\n",
       "      <td>0.004199</td>\n",
       "      <td>0.004199</td>\n",
       "      <td>-0.007083</td>\n",
       "    </tr>\n",
       "    <tr>\n",
       "      <td>Grid status</td>\n",
       "      <td>-0.002747</td>\n",
       "      <td>9.882892e-01</td>\n",
       "      <td>0.184622</td>\n",
       "      <td>0.227947</td>\n",
       "      <td>-0.845026</td>\n",
       "      <td>0.003190</td>\n",
       "      <td>-0.002752</td>\n",
       "      <td>5.174904e-02</td>\n",
       "      <td>1.000000</td>\n",
       "      <td>0.081135</td>\n",
       "      <td>0.081135</td>\n",
       "      <td>-0.002278</td>\n",
       "    </tr>\n",
       "    <tr>\n",
       "      <td>Grid power</td>\n",
       "      <td>0.016974</td>\n",
       "      <td>2.233209e-01</td>\n",
       "      <td>-0.666429</td>\n",
       "      <td>-0.668910</td>\n",
       "      <td>0.054698</td>\n",
       "      <td>-0.021221</td>\n",
       "      <td>0.018367</td>\n",
       "      <td>4.198656e-03</td>\n",
       "      <td>0.081135</td>\n",
       "      <td>1.000000</td>\n",
       "      <td>1.000000</td>\n",
       "      <td>0.016952</td>\n",
       "    </tr>\n",
       "    <tr>\n",
       "      <td>Grid energy consumption</td>\n",
       "      <td>0.016974</td>\n",
       "      <td>2.233209e-01</td>\n",
       "      <td>-0.666429</td>\n",
       "      <td>-0.668910</td>\n",
       "      <td>0.054698</td>\n",
       "      <td>-0.021221</td>\n",
       "      <td>0.018367</td>\n",
       "      <td>4.198656e-03</td>\n",
       "      <td>0.081135</td>\n",
       "      <td>1.000000</td>\n",
       "      <td>1.000000</td>\n",
       "      <td>0.016952</td>\n",
       "    </tr>\n",
       "    <tr>\n",
       "      <td>Grid cumulative energy consumption</td>\n",
       "      <td>0.999495</td>\n",
       "      <td>8.838689e-04</td>\n",
       "      <td>-0.051234</td>\n",
       "      <td>-0.051038</td>\n",
       "      <td>-0.005666</td>\n",
       "      <td>-0.985855</td>\n",
       "      <td>0.999942</td>\n",
       "      <td>-7.083047e-03</td>\n",
       "      <td>-0.002278</td>\n",
       "      <td>0.016952</td>\n",
       "      <td>0.016952</td>\n",
       "      <td>1.000000</td>\n",
       "    </tr>\n",
       "  </tbody>\n",
       "</table>\n",
       "</div>"
      ],
      "text/plain": [
       "                                    Timestamp       Current  Total voltage  \\\n",
       "Timestamp                            1.000000  4.418724e-04      -0.052912   \n",
       "Current                              0.000442  1.000000e+00       0.078020   \n",
       "Total voltage                       -0.052912  7.802047e-02       1.000000   \n",
       "SOC                                 -0.052751  1.208567e-01       0.996240   \n",
       "Temperature                         -0.004988 -8.189212e-01      -0.326546   \n",
       "SOH                                 -0.985722 -5.643790e-04       0.054130   \n",
       "Equivalent cycle                     0.999442  6.402455e-04      -0.053510   \n",
       "Application status                  -0.007124 -6.594991e-07       0.047622   \n",
       "Grid status                         -0.002747  9.882892e-01       0.184622   \n",
       "Grid power                           0.016974  2.233209e-01      -0.666429   \n",
       "Grid energy consumption              0.016974  2.233209e-01      -0.666429   \n",
       "Grid cumulative energy consumption   0.999495  8.838689e-04      -0.051234   \n",
       "\n",
       "                                         SOC  Temperature       SOH  \\\n",
       "Timestamp                          -0.052751    -0.004988 -0.985722   \n",
       "Current                             0.120857    -0.818921 -0.000564   \n",
       "Total voltage                       0.996240    -0.326546  0.054130   \n",
       "SOC                                 1.000000    -0.369040  0.054005   \n",
       "Temperature                        -0.369040     1.000000  0.003684   \n",
       "SOH                                 0.054005     0.003684  1.000000   \n",
       "Equivalent cycle                   -0.053320    -0.004896 -0.984262   \n",
       "Application status                  0.035310     0.001668  0.006455   \n",
       "Grid status                         0.227947    -0.845026  0.003190   \n",
       "Grid power                         -0.668910     0.054698 -0.021221   \n",
       "Grid energy consumption            -0.668910     0.054698 -0.021221   \n",
       "Grid cumulative energy consumption -0.051038    -0.005666 -0.985855   \n",
       "\n",
       "                                    Equivalent cycle  Application status  \\\n",
       "Timestamp                                   0.999442       -7.123634e-03   \n",
       "Current                                     0.000640       -6.594991e-07   \n",
       "Total voltage                              -0.053510        4.762158e-02   \n",
       "SOC                                        -0.053320        3.531014e-02   \n",
       "Temperature                                -0.004896        1.668334e-03   \n",
       "SOH                                        -0.984262        6.455398e-03   \n",
       "Equivalent cycle                            1.000000       -7.205035e-03   \n",
       "Application status                         -0.007205        1.000000e+00   \n",
       "Grid status                                -0.002752        5.174904e-02   \n",
       "Grid power                                  0.018367        4.198656e-03   \n",
       "Grid energy consumption                     0.018367        4.198656e-03   \n",
       "Grid cumulative energy consumption          0.999942       -7.083047e-03   \n",
       "\n",
       "                                    Grid status  Grid power  \\\n",
       "Timestamp                             -0.002747    0.016974   \n",
       "Current                                0.988289    0.223321   \n",
       "Total voltage                          0.184622   -0.666429   \n",
       "SOC                                    0.227947   -0.668910   \n",
       "Temperature                           -0.845026    0.054698   \n",
       "SOH                                    0.003190   -0.021221   \n",
       "Equivalent cycle                      -0.002752    0.018367   \n",
       "Application status                     0.051749    0.004199   \n",
       "Grid status                            1.000000    0.081135   \n",
       "Grid power                             0.081135    1.000000   \n",
       "Grid energy consumption                0.081135    1.000000   \n",
       "Grid cumulative energy consumption    -0.002278    0.016952   \n",
       "\n",
       "                                    Grid energy consumption  \\\n",
       "Timestamp                                          0.016974   \n",
       "Current                                            0.223321   \n",
       "Total voltage                                     -0.666429   \n",
       "SOC                                               -0.668910   \n",
       "Temperature                                        0.054698   \n",
       "SOH                                               -0.021221   \n",
       "Equivalent cycle                                   0.018367   \n",
       "Application status                                 0.004199   \n",
       "Grid status                                        0.081135   \n",
       "Grid power                                         1.000000   \n",
       "Grid energy consumption                            1.000000   \n",
       "Grid cumulative energy consumption                 0.016952   \n",
       "\n",
       "                                    Grid cumulative energy consumption  \n",
       "Timestamp                                                     0.999495  \n",
       "Current                                                       0.000884  \n",
       "Total voltage                                                -0.051234  \n",
       "SOC                                                          -0.051038  \n",
       "Temperature                                                  -0.005666  \n",
       "SOH                                                          -0.985855  \n",
       "Equivalent cycle                                              0.999942  \n",
       "Application status                                           -0.007083  \n",
       "Grid status                                                  -0.002278  \n",
       "Grid power                                                    0.016952  \n",
       "Grid energy consumption                                       0.016952  \n",
       "Grid cumulative energy consumption                            1.000000  "
      ]
     },
     "execution_count": 10,
     "metadata": {},
     "output_type": "execute_result"
    }
   ],
   "source": [
    "data.corr()"
   ]
  },
  {
   "cell_type": "code",
   "execution_count": 19,
   "metadata": {},
   "outputs": [
    {
     "data": {
      "text/plain": [
       "<matplotlib.axes._subplots.AxesSubplot at 0x215e0fc5278>"
      ]
     },
     "execution_count": 19,
     "metadata": {},
     "output_type": "execute_result"
    },
    {
     "data": {
      "image/png": "[encoded data removed]",
      "text/plain": [
       "<Figure size 1080x1080 with 2 Axes>"
      ]
     },
     "metadata": {
      "needs_background": "light"
     },
     "output_type": "display_data"
    }
   ],
   "source": [
    "plt.subplots(figsize=(15,15))\n",
    "sns.heatmap(data.corr(),annot = True,linewidths=1)"
   ]
  },
  {
   "cell_type": "code",
   "execution_count": null,
   "metadata": {},
   "outputs": [],
   "source": []
  }
 ],
 "metadata": {
  "kernelspec": {
   "display_name": "Python 3",
   "language": "python",
   "name": "python3"
  },
  "language_info": {
   "codemirror_mode": {
    "name": "ipython",
    "version": 3
   },
   "file_extension": ".py",
   "mimetype": "text/x-python",
   "name": "python",
   "nbconvert_exporter": "python",
   "pygments_lexer": "ipython3",
   "version": "3.7.1"
  }
 },
 "nbformat": 4,
 "nbformat_minor": 2
}
