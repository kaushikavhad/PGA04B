{
 "cells": [
  {
   "cell_type": "code",
   "execution_count": 4,
   "metadata": {},
   "outputs": [],
   "source": [
    "library(dplyr)\n",
    "library(readr)\n",
    "library(tidytext)\n",
    "\n",
    "que500 <- read.csv(\"M:\\\\Imarticus\\\\data sets\\\\Text mining\\\\500_questions.csv\" , header = TRUE,\n",
    "               stringsAsFactors = FALSE,\n",
    "               strip.white = TRUE ,\n",
    "               sep = ',')"
   ]
  },
  {
   "cell_type": "code",
   "execution_count": 6,
   "metadata": {},
   "outputs": [
    {
     "data": {
      "text/html": [
       "<table>\n",
       "<thead><tr><th></th><th scope=col>X</th><th scope=col>word</th></tr></thead>\n",
       "<tbody>\n",
       "\t<tr><th scope=row>1</th><td>2254</td><td>avg </td></tr>\n",
       "\t<tr><th scope=row>1.1</th><td>2254</td><td>of  </td></tr>\n",
       "\t<tr><th scope=row>1.2</th><td>2254</td><td>42  </td></tr>\n",
       "\t<tr><th scope=row>1.3</th><td>2254</td><td>what</td></tr>\n",
       "\t<tr><th scope=row>1.4</th><td>2254</td><td>is  </td></tr>\n",
       "\t<tr><th scope=row>1.5</th><td>2254</td><td>a   </td></tr>\n",
       "</tbody>\n",
       "</table>\n"
      ],
      "text/latex": [
       "\\begin{tabular}{r|ll}\n",
       "  & X & word\\\\\n",
       "\\hline\n",
       "\t1 & 2254 & avg \\\\\n",
       "\t1.1 & 2254 & of  \\\\\n",
       "\t1.2 & 2254 & 42  \\\\\n",
       "\t1.3 & 2254 & what\\\\\n",
       "\t1.4 & 2254 & is  \\\\\n",
       "\t1.5 & 2254 & a   \\\\\n",
       "\\end{tabular}\n"
      ],
      "text/markdown": [
       "\n",
       "| <!--/--> | X | word | \n",
       "|---|---|---|---|---|---|\n",
       "| 1 | 2254 | avg  | \n",
       "| 1.1 | 2254 | of   | \n",
       "| 1.2 | 2254 | 42   | \n",
       "| 1.3 | 2254 | what | \n",
       "| 1.4 | 2254 | is   | \n",
       "| 1.5 | 2254 | a    | \n",
       "\n",
       "\n"
      ],
      "text/plain": [
       "    X    word\n",
       "1   2254 avg \n",
       "1.1 2254 of  \n",
       "1.2 2254 42  \n",
       "1.3 2254 what\n",
       "1.4 2254 is  \n",
       "1.5 2254 a   "
      ]
     },
     "metadata": {},
     "output_type": "display_data"
    },
    {
     "data": {
      "text/html": [
       "<ol class=list-inline>\n",
       "\t<li>13835</li>\n",
       "\t<li>2</li>\n",
       "</ol>\n"
      ],
      "text/latex": [
       "\\begin{enumerate*}\n",
       "\\item 13835\n",
       "\\item 2\n",
       "\\end{enumerate*}\n"
      ],
      "text/markdown": [
       "1. 13835\n",
       "2. 2\n",
       "\n",
       "\n"
      ],
      "text/plain": [
       "[1] 13835     2"
      ]
     },
     "metadata": {},
     "output_type": "display_data"
    }
   ],
   "source": [
    "words_que500 <- que500 %>% unnest_tokens(word,question)\n",
    "\n",
    "head(words_que500)\n",
    "dim(words_que500)"
   ]
  },
  {
   "cell_type": "code",
   "execution_count": 7,
   "metadata": {},
   "outputs": [
    {
     "name": "stderr",
     "output_type": "stream",
     "text": [
      "Joining, by = \"word\"\n"
     ]
    },
    {
     "data": {
      "text/html": [
       "<table>\n",
       "<thead><tr><th scope=col>X</th><th scope=col>word</th></tr></thead>\n",
       "<tbody>\n",
       "\t<tr><td>2254     </td><td>avg      </td></tr>\n",
       "\t<tr><td>2254     </td><td>42       </td></tr>\n",
       "\t<tr><td>2254     </td><td>sql      </td></tr>\n",
       "\t<tr><td>2254     </td><td>view     </td></tr>\n",
       "\t<tr><td>1390     </td><td>question </td></tr>\n",
       "\t<tr><td>1390     </td><td>involving</td></tr>\n",
       "</tbody>\n",
       "</table>\n"
      ],
      "text/latex": [
       "\\begin{tabular}{r|ll}\n",
       " X & word\\\\\n",
       "\\hline\n",
       "\t 2254      & avg      \\\\\n",
       "\t 2254      & 42       \\\\\n",
       "\t 2254      & sql      \\\\\n",
       "\t 2254      & view     \\\\\n",
       "\t 1390      & question \\\\\n",
       "\t 1390      & involving\\\\\n",
       "\\end{tabular}\n"
      ],
      "text/markdown": [
       "\n",
       "X | word | \n",
       "|---|---|---|---|---|---|\n",
       "| 2254      | avg       | \n",
       "| 2254      | 42        | \n",
       "| 2254      | sql       | \n",
       "| 2254      | view      | \n",
       "| 1390      | question  | \n",
       "| 1390      | involving | \n",
       "\n",
       "\n"
      ],
      "text/plain": [
       "  X    word     \n",
       "1 2254 avg      \n",
       "2 2254 42       \n",
       "3 2254 sql      \n",
       "4 2254 view     \n",
       "5 1390 question \n",
       "6 1390 involving"
      ]
     },
     "metadata": {},
     "output_type": "display_data"
    },
    {
     "data": {
      "text/html": [
       "<ol class=list-inline>\n",
       "\t<li>6353</li>\n",
       "\t<li>2</li>\n",
       "</ol>\n"
      ],
      "text/latex": [
       "\\begin{enumerate*}\n",
       "\\item 6353\n",
       "\\item 2\n",
       "\\end{enumerate*}\n"
      ],
      "text/markdown": [
       "1. 6353\n",
       "2. 2\n",
       "\n",
       "\n"
      ],
      "text/plain": [
       "[1] 6353    2"
      ]
     },
     "metadata": {},
     "output_type": "display_data"
    }
   ],
   "source": [
    "data(stop_words)\n",
    "words_que500 <- words_que500 %>% anti_join(stop_words)\n",
    "\n",
    "head(words_que500)\n",
    "dim(words_que500)"
   ]
  },
  {
   "cell_type": "code",
   "execution_count": 8,
   "metadata": {},
   "outputs": [
    {
     "name": "stderr",
     "output_type": "stream",
     "text": [
      "Joining, by = \"word\"\n",
      "Warning message:\n",
      "\"Column `word` joining character vector and factor, coercing into character vector\""
     ]
    },
    {
     "data": {
      "text/html": [
       "<table>\n",
       "<thead><tr><th scope=col>X</th><th scope=col>word</th></tr></thead>\n",
       "<tbody>\n",
       "\t<tr><td>2254     </td><td>42       </td></tr>\n",
       "\t<tr><td>2254     </td><td>sql      </td></tr>\n",
       "\t<tr><td>1390     </td><td>question </td></tr>\n",
       "\t<tr><td>1390     </td><td>involving</td></tr>\n",
       "\t<tr><td>1390     </td><td>primary  </td></tr>\n",
       "\t<tr><td>1390     </td><td>key      </td></tr>\n",
       "</tbody>\n",
       "</table>\n"
      ],
      "text/latex": [
       "\\begin{tabular}{r|ll}\n",
       " X & word\\\\\n",
       "\\hline\n",
       "\t 2254      & 42       \\\\\n",
       "\t 2254      & sql      \\\\\n",
       "\t 1390      & question \\\\\n",
       "\t 1390      & involving\\\\\n",
       "\t 1390      & primary  \\\\\n",
       "\t 1390      & key      \\\\\n",
       "\\end{tabular}\n"
      ],
      "text/markdown": [
       "\n",
       "X | word | \n",
       "|---|---|---|---|---|---|\n",
       "| 2254      | 42        | \n",
       "| 2254      | sql       | \n",
       "| 1390      | question  | \n",
       "| 1390      | involving | \n",
       "| 1390      | primary   | \n",
       "| 1390      | key       | \n",
       "\n",
       "\n"
      ],
      "text/plain": [
       "  X    word     \n",
       "1 2254 42       \n",
       "2 2254 sql      \n",
       "3 1390 question \n",
       "4 1390 involving\n",
       "5 1390 primary  \n",
       "6 1390 key      "
      ]
     },
     "metadata": {},
     "output_type": "display_data"
    },
    {
     "data": {
      "text/html": [
       "<ol class=list-inline>\n",
       "\t<li>6168</li>\n",
       "\t<li>2</li>\n",
       "</ol>\n"
      ],
      "text/latex": [
       "\\begin{enumerate*}\n",
       "\\item 6168\n",
       "\\item 2\n",
       "\\end{enumerate*}\n"
      ],
      "text/markdown": [
       "1. 6168\n",
       "2. 2\n",
       "\n",
       "\n"
      ],
      "text/plain": [
       "[1] 6168    2"
      ]
     },
     "metadata": {},
     "output_type": "display_data"
    }
   ],
   "source": [
    "own_stop_words=data.frame(word=c(\"avg\",\"view\",\"effect\",\"4\",\"2\",\"2005\",\"object\"))\n",
    "words_que500<- words_que500 %>% anti_join(own_stop_words)\n",
    "\n",
    "head(words_que500)\n",
    "dim(words_que500)"
   ]
  },
  {
   "cell_type": "code",
   "execution_count": null,
   "metadata": {},
   "outputs": [],
   "source": []
  }
 ],
 "metadata": {
  "kernelspec": {
   "display_name": "R",
   "language": "R",
   "name": "ir"
  },
  "language_info": {
   "codemirror_mode": "r",
   "file_extension": ".r",
   "mimetype": "text/x-r-source",
   "name": "R",
   "pygments_lexer": "r",
   "version": "3.5.1"
  }
 },
 "nbformat": 4,
 "nbformat_minor": 2
}
