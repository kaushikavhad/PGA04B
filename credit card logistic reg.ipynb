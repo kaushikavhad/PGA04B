{
 "cells": [
  {
   "cell_type": "code",
   "execution_count": 2,
   "metadata": {},
   "outputs": [],
   "source": [
    "credit_data_sample<- read.csv(\"M:\\\\Imarticus\\\\ProjectR\\\\Credit card fraud\\\\Datafiles\\\\credit_data_sample.csv\", header = TRUE,\n",
    "                              stringsAsFactors = TRUE,\n",
    "                              strip.white = FALSE ,\n",
    "                              sep = ',')"
   ]
  },
  {
   "cell_type": "code",
   "execution_count": 41,
   "metadata": {},
   "outputs": [
    {
     "data": {
      "text/plain": [
       "\n",
       "Call:\n",
       "glm(formula = Class ~ V4 + V14 + V17, family = binomial(logit), \n",
       "    data = credit_data_sample)\n",
       "\n",
       "Deviance Residuals: \n",
       "    Min       1Q   Median       3Q      Max  \n",
       "-3.7997  -0.2555  -0.1636  -0.0339   3.8466  \n",
       "\n",
       "Coefficients:\n",
       "            Estimate Std. Error z value Pr(>|z|)    \n",
       "(Intercept) -3.75043    0.17316 -21.659  < 2e-16 ***\n",
       "V4           0.65587    0.07322   8.957  < 2e-16 ***\n",
       "V14         -1.17514    0.09563 -12.288  < 2e-16 ***\n",
       "V17         -0.21171    0.07606  -2.784  0.00538 ** \n",
       "---\n",
       "Signif. codes:  0 '***' 0.001 '**' 0.01 '*' 0.05 '.' 0.1 ' ' 1\n",
       "\n",
       "(Dispersion parameter for binomial family taken to be 1)\n",
       "\n",
       "    Null deviance: 2230.46  on 1997  degrees of freedom\n",
       "Residual deviance:  507.39  on 1994  degrees of freedom\n",
       "AIC: 515.39\n",
       "\n",
       "Number of Fisher Scoring iterations: 9\n"
      ]
     },
     "metadata": {},
     "output_type": "display_data"
    }
   ],
   "source": [
    "credit_data_sample$Class= as.factor(credit_data_sample$Class)\n",
    "library(InformationValue)\n",
    "\n",
    "fit = glm(Class ~ V4+V14+V17, data=credit_data_sample, family=binomial(logit))\n",
    "pred = predict(fit, data= credit_data_sample, type=\"response\")\n",
    "summary(fit)\n"
   ]
  },
  {
   "cell_type": "code",
   "execution_count": 42,
   "metadata": {},
   "outputs": [
    {
     "data": {
      "text/html": [
       "<table>\n",
       "<thead><tr><th></th><th scope=col>0</th><th scope=col>1</th></tr></thead>\n",
       "<tbody>\n",
       "\t<tr><th scope=row>0</th><td>1500</td><td> 72 </td></tr>\n",
       "\t<tr><th scope=row>1</th><td>   6</td><td>420 </td></tr>\n",
       "</tbody>\n",
       "</table>\n"
      ],
      "text/latex": [
       "\\begin{tabular}{r|ll}\n",
       "  & 0 & 1\\\\\n",
       "\\hline\n",
       "\t0 & 1500 &  72 \\\\\n",
       "\t1 &    6 & 420 \\\\\n",
       "\\end{tabular}\n"
      ],
      "text/markdown": [
       "\n",
       "| <!--/--> | 0 | 1 | \n",
       "|---|---|\n",
       "| 0 | 1500 |  72  | \n",
       "| 1 |    6 | 420  | \n",
       "\n",
       "\n"
      ],
      "text/plain": [
       "  0    1  \n",
       "0 1500  72\n",
       "1    6 420"
      ]
     },
     "metadata": {},
     "output_type": "display_data"
    }
   ],
   "source": [
    "confusionMatrix(credit_data_sample$Class,pred>0.7)"
   ]
  },
  {
   "cell_type": "code",
   "execution_count": 23,
   "metadata": {},
   "outputs": [
    {
     "data": {
      "image/png": "[encoded data removed]",
      "text/plain": [
       "plot without title"
      ]
     },
     "metadata": {},
     "output_type": "display_data"
    }
   ],
   "source": [
    "plotROC(credit_data_sample,pred)"
   ]
  },
  {
   "cell_type": "code",
   "execution_count": 24,
   "metadata": {},
   "outputs": [
    {
     "data": {
      "text/html": [
       "0.861788617886179"
      ],
      "text/latex": [
       "0.861788617886179"
      ],
      "text/markdown": [
       "0.861788617886179"
      ],
      "text/plain": [
       "[1] 0.8617886"
      ]
     },
     "metadata": {},
     "output_type": "display_data"
    },
    {
     "data": {
      "text/html": [
       "0.99402390438247"
      ],
      "text/latex": [
       "0.99402390438247"
      ],
      "text/markdown": [
       "0.99402390438247"
      ],
      "text/plain": [
       "[1] 0.9940239"
      ]
     },
     "metadata": {},
     "output_type": "display_data"
    }
   ],
   "source": [
    "sensitivity(credit_data_sample$Class, pred, threshold = 0.6)\n",
    "specificity(credit_data_sample$Class, pred, threshold = 0.6)"
   ]
  },
  {
   "cell_type": "code",
   "execution_count": 48,
   "metadata": {},
   "outputs": [
    {
     "data": {
      "text/html": [
       "399"
      ],
      "text/latex": [
       "399"
      ],
      "text/markdown": [
       "399"
      ],
      "text/plain": [
       "[1] 399"
      ]
     },
     "metadata": {},
     "output_type": "display_data"
    }
   ],
   "source": [
    "library(caTools)\n",
    "split = sample.split(credit_data_sample$Class, SplitRatio = .8)\n",
    "training_data = subset(credit_data_sample, split == TRUE)\n",
    "test_data = subset(credit_data_sample, split == FALSE)\n",
    "nrow(test_data)"
   ]
  },
  {
   "cell_type": "code",
   "execution_count": 49,
   "metadata": {},
   "outputs": [
    {
     "data": {
      "text/plain": [
       "\n",
       "Call:\n",
       "glm(formula = Class ~ V4 + V14 + V17, family = binomial, data = training_data)\n",
       "\n",
       "Deviance Residuals: \n",
       "    Min       1Q   Median       3Q      Max  \n",
       "-3.7625  -0.2580  -0.1648  -0.0434   3.8396  \n",
       "\n",
       "Coefficients:\n",
       "            Estimate Std. Error z value Pr(>|z|)    \n",
       "(Intercept) -3.73855    0.19155 -19.518   <2e-16 ***\n",
       "V4           0.64566    0.07824   8.252   <2e-16 ***\n",
       "V14         -1.15890    0.10158 -11.409   <2e-16 ***\n",
       "V17         -0.23285    0.08196  -2.841   0.0045 ** \n",
       "---\n",
       "Signif. codes:  0 '***' 0.001 '**' 0.01 '*' 0.05 '.' 0.1 ' ' 1\n",
       "\n",
       "(Dispersion parameter for binomial family taken to be 1)\n",
       "\n",
       "    Null deviance: 1785.60  on 1598  degrees of freedom\n",
       "Residual deviance:  414.83  on 1595  degrees of freedom\n",
       "AIC: 422.83\n",
       "\n",
       "Number of Fisher Scoring iterations: 8\n"
      ]
     },
     "metadata": {},
     "output_type": "display_data"
    }
   ],
   "source": [
    "fit_train = glm(Class ~ V4+V14+V17, training_data, family=binomial)\n",
    "summary(fit_train)"
   ]
  },
  {
   "cell_type": "code",
   "execution_count": 50,
   "metadata": {},
   "outputs": [
    {
     "data": {
      "text/html": [
       "<table>\n",
       "<thead><tr><th></th><th scope=col>0</th><th scope=col>1</th></tr></thead>\n",
       "<tbody>\n",
       "\t<tr><th scope=row>0</th><td>300</td><td>14 </td></tr>\n",
       "\t<tr><th scope=row>1</th><td>  1</td><td>84 </td></tr>\n",
       "</tbody>\n",
       "</table>\n"
      ],
      "text/latex": [
       "\\begin{tabular}{r|ll}\n",
       "  & 0 & 1\\\\\n",
       "\\hline\n",
       "\t0 & 300 & 14 \\\\\n",
       "\t1 &   1 & 84 \\\\\n",
       "\\end{tabular}\n"
      ],
      "text/markdown": [
       "\n",
       "| <!--/--> | 0 | 1 | \n",
       "|---|---|\n",
       "| 0 | 300 | 14  | \n",
       "| 1 |   1 | 84  | \n",
       "\n",
       "\n"
      ],
      "text/plain": [
       "  0   1 \n",
       "0 300 14\n",
       "1   1 84"
      ]
     },
     "metadata": {},
     "output_type": "display_data"
    }
   ],
   "source": [
    "pred_test <-predict(fit_train,test_data, type=\"response\")\n",
    "\n",
    "\n",
    "confusionMatrix(test_data$Class,pred_test>0.7)"
   ]
  },
  {
   "cell_type": "code",
   "execution_count": 45,
   "metadata": {},
   "outputs": [
    {
     "data": {
      "image/png": "[encoded data removed]",
      "text/plain": [
       "plot without title"
      ]
     },
     "metadata": {},
     "output_type": "display_data"
    }
   ],
   "source": [
    "plotROC(test_data,pred_test)\n"
   ]
  },
  {
   "cell_type": "code",
   "execution_count": 46,
   "metadata": {},
   "outputs": [
    {
     "data": {
      "text/html": [
       "0.816326530612245"
      ],
      "text/latex": [
       "0.816326530612245"
      ],
      "text/markdown": [
       "0.816326530612245"
      ],
      "text/plain": [
       "[1] 0.8163265"
      ]
     },
     "metadata": {},
     "output_type": "display_data"
    },
    {
     "data": {
      "text/html": [
       "0.993355481727575"
      ],
      "text/latex": [
       "0.993355481727575"
      ],
      "text/markdown": [
       "0.993355481727575"
      ],
      "text/plain": [
       "[1] 0.9933555"
      ]
     },
     "metadata": {},
     "output_type": "display_data"
    }
   ],
   "source": [
    "sensitivity(test_data$Class, pred_test, threshold = 0.6)\n",
    "specificity(test_data$Class, pred_test, threshold = 0.6)"
   ]
  },
  {
   "cell_type": "code",
   "execution_count": null,
   "metadata": {},
   "outputs": [],
   "source": []
  }
 ],
 "metadata": {
  "kernelspec": {
   "display_name": "R",
   "language": "R",
   "name": "ir"
  },
  "language_info": {
   "codemirror_mode": "r",
   "file_extension": ".r",
   "mimetype": "text/x-r-source",
   "name": "R",
   "pygments_lexer": "r",
   "version": "3.5.1"
  }
 },
 "nbformat": 4,
 "nbformat_minor": 2
}
