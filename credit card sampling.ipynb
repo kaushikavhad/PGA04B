{
 "cells": [
  {
   "cell_type": "code",
   "execution_count": 1,
   "metadata": {},
   "outputs": [],
   "source": [
    "library(readr)\n",
    "credit_data<- read.csv(\"M:\\\\Imarticus\\\\data sets\\\\Text mining\\\\creditcard.csv\", header = TRUE,\n",
    "                       stringsAsFactors = TRUE,\n",
    "                       strip.white = FALSE ,\n",
    "                       sep = ',')"
   ]
  },
  {
   "cell_type": "code",
   "execution_count": 2,
   "metadata": {},
   "outputs": [
    {
     "name": "stderr",
     "output_type": "stream",
     "text": [
      "Loading required package: gsubfn\n",
      "Loading required package: proto\n",
      "Loading required package: RSQLite\n"
     ]
    },
    {
     "data": {
      "text/html": [
       "492"
      ],
      "text/latex": [
       "492"
      ],
      "text/markdown": [
       "492"
      ],
      "text/plain": [
       "[1] 492"
      ]
     },
     "metadata": {},
     "output_type": "display_data"
    },
    {
     "data": {
      "text/html": [
       "284315"
      ],
      "text/latex": [
       "284315"
      ],
      "text/markdown": [
       "284315"
      ],
      "text/plain": [
       "[1] 284315"
      ]
     },
     "metadata": {},
     "output_type": "display_data"
    }
   ],
   "source": [
    "library(\"sqldf\")\n",
    "credit_data_c1=sqldf(\"select * from credit_data where Class == 1\")\n",
    "credit_data_c0= sqldf(\"select * from credit_data where Class == 0 \")\n",
    "nrow(credit_data_c1)\n",
    "nrow(credit_data_c0)"
   ]
  },
  {
   "cell_type": "code",
   "execution_count": 3,
   "metadata": {},
   "outputs": [
    {
     "data": {
      "text/html": [
       "1506"
      ],
      "text/latex": [
       "1506"
      ],
      "text/markdown": [
       "1506"
      ],
      "text/plain": [
       "[1] 1506"
      ]
     },
     "metadata": {},
     "output_type": "display_data"
    }
   ],
   "source": [
    "#sampling\n",
    "set.seed(100)  \n",
    "Row_Index <- sample(1:nrow(credit_data_c0), 0.0053*nrow(credit_data_c0))  \n",
    "sample_data <- credit_data_c0[Row_Index, ]\n",
    "nrow(sample_data)"
   ]
  },
  {
   "cell_type": "code",
   "execution_count": 4,
   "metadata": {},
   "outputs": [
    {
     "data": {
      "text/html": [
       "1998"
      ],
      "text/latex": [
       "1998"
      ],
      "text/markdown": [
       "1998"
      ],
      "text/plain": [
       "[1] 1998"
      ]
     },
     "metadata": {},
     "output_type": "display_data"
    }
   ],
   "source": [
    "credit_data_sample<- rbind(credit_data_c1,sample_data)\n",
    "nrow(credit_data_sample)"
   ]
  },
  {
   "cell_type": "code",
   "execution_count": 5,
   "metadata": {},
   "outputs": [
    {
     "data": {
      "text/html": [
       "1998"
      ],
      "text/latex": [
       "1998"
      ],
      "text/markdown": [
       "1998"
      ],
      "text/plain": [
       "[1] 1998"
      ]
     },
     "metadata": {},
     "output_type": "display_data"
    }
   ],
   "source": [
    "credit_data_sample<- sqldf(\"select * from credit_data_sample order by Time\")\n",
    "nrow(credit_data_sample)\n",
    "write.csv(credit_data_sample,file=\"M:\\\\Imarticus\\\\ProjectR\\\\Credit card fraud\\\\credit_data_sample.csv\")\n"
   ]
  },
  {
   "cell_type": "code",
   "execution_count": null,
   "metadata": {},
   "outputs": [],
   "source": []
  }
 ],
 "metadata": {
  "kernelspec": {
   "display_name": "R",
   "language": "R",
   "name": "ir"
  },
  "language_info": {
   "codemirror_mode": "r",
   "file_extension": ".r",
   "mimetype": "text/x-r-source",
   "name": "R",
   "pygments_lexer": "r",
   "version": "3.5.1"
  }
 },
 "nbformat": 4,
 "nbformat_minor": 2
}
